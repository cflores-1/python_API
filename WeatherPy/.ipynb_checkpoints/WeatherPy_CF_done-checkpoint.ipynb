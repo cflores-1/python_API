{
 "cells": [
  {
   "cell_type": "markdown",
   "metadata": {},
   "source": [
    "# WeatherPy\n",
    "\n",
    "Observations:\n",
    "- Based on the plots with cloudiness vs latitude and wind speed vs latitude we can conclude that there is no relationship between them. \n",
    "- This activity follows the logic that the closer you get to the equator the warmer the temperature becomes. This is seen on the linear regression plots with the temperature vs latitude relationship.\n",
    "----"
   ]
  },
  {
   "cell_type": "code",
   "execution_count": 4,
   "metadata": {
    "scrolled": true
   },
   "outputs": [],
   "source": [
    "# Dependencies and Setup\n",
    "import matplotlib.pyplot as plt\n",
    "import pandas as pd\n",
    "import numpy as np\n",
    "import requests\n",
    "import time\n",
    "from scipy.stats import linregress\n",
    "import urllib\n",
    "\n",
    "# Import API key\n",
    "from config import weather_api_key\n",
    "\n",
    "# Incorporated citipy to determine city based on latitude and longitude\n",
    "#importing python code, new functionalities in python to call\n",
    "from citipy import citipy\n",
    "\n",
    "# Output File (CSV)\n",
    "output_data_file = \"output_data/cities.csv\"\n",
    "\n",
    "# Range of lats and longitudes\n",
    "lat_range = (-90, 90)\n",
    "lng_range = (-180, 180)"
   ]
  },
  {
   "cell_type": "markdown",
   "metadata": {},
   "source": [
    "## Generate Cities List"
   ]
  },
  {
   "cell_type": "code",
   "execution_count": 5,
   "metadata": {},
   "outputs": [
    {
     "data": {
      "text/plain": [
       "630"
      ]
     },
     "execution_count": 5,
     "metadata": {},
     "output_type": "execute_result"
    }
   ],
   "source": [
    "# List for holding lat_lngs and cities\n",
    "lat_lngs = []\n",
    "cities = []\n",
    "\n",
    "# Create a set of random lat and lng combinations\n",
    "lats = np.random.uniform(lat_range[0], lat_range[1], size=1500)\n",
    "lngs = np.random.uniform(lng_range[0], lng_range[1], size=1500)\n",
    "lat_lngs = zip(lats, lngs)\n",
    "\n",
    "# Identify nearest city for each lat, lng combination\n",
    "for lat_lng in lat_lngs:\n",
    "    city = citipy.nearest_city(lat_lng[0], lat_lng[1]).city_name\n",
    "    \n",
    "    # If the city is unique, then add it to a our cities list\n",
    "    if city not in cities:\n",
    "        cities.append(city)\n",
    "\n",
    "# Print the city count to confirm sufficient count\n",
    "len(cities)"
   ]
  },
  {
   "cell_type": "markdown",
   "metadata": {},
   "source": [
    "### Perform API Calls\n",
    "* Perform a weather check on each city using a series of successive API calls.\n",
    "* Include a print log of each city as it'sbeing processed (with the city number and city name).\n"
   ]
  },
  {
   "cell_type": "code",
   "execution_count": null,
   "metadata": {},
   "outputs": [],
   "source": [
    "#Config information\n",
    "url = \"http://api.openweathermap.org/data/2.5/weather?\"\n",
    "units = \"imperial\"\n",
    "weather_api_key = weather_api_key\n",
    "settings = {\"units\":\"imperial\", \"appid\": weather_api_key}\n",
    "\n",
    "# Build partial query URL\n",
    "query_url = f\"{url}appid={weather_api_key}&units={units}\"\n",
    "        "
   ]
  },
  {
   "cell_type": "code",
   "execution_count": 7,
   "metadata": {},
   "outputs": [
    {
     "data": {
      "text/plain": [
       "'http://api.openweathermap.org/data/2.5/weather?appid=2c52de1315867672ece8a4b05b0348a2&units=imperial'"
      ]
     },
     "execution_count": 7,
     "metadata": {},
     "output_type": "execute_result"
    }
   ],
   "source": [
    "query_url"
   ]
  },
  {
   "cell_type": "code",
   "execution_count": 8,
   "metadata": {},
   "outputs": [
    {
     "name": "stdout",
     "output_type": "stream",
     "text": [
      "Data Gathering:\n",
      "--------------\n"
     ]
    }
   ],
   "source": [
    "#City Data\n",
    "city_data = []\n",
    "\n",
    "#print\n",
    "print(\"Data Gathering:\")\n",
    "print(\"--------------\")\n"
   ]
  },
  {
   "cell_type": "code",
   "execution_count": 9,
   "metadata": {},
   "outputs": [
    {
     "name": "stdout",
     "output_type": "stream",
     "text": [
      "Error Processing Record 3 of 630 | warqla\n",
      "'coord'\n",
      "Error Processing Record 12 of 630 | ngukurr\n",
      "'coord'\n",
      "Error Processing Record 13 of 630 | mahaicony\n",
      "'coord'\n",
      "Error Processing Record 14 of 630 | barentsburg\n",
      "'coord'\n",
      "Error Processing Record 25 of 630 | sayanskiy\n",
      "'coord'\n",
      "Error Processing Record 41 of 630 | attawapiskat\n",
      "'coord'\n",
      "Error Processing Record 44 of 630 | bargal\n",
      "'coord'\n",
      "Error Processing Record 54 of 630 | saleaula\n",
      "'coord'\n",
      "Error Processing Record 61 of 630 | taolanaro\n",
      "'coord'\n",
      "Error Processing Record 73 of 630 | tumannyy\n",
      "'coord'\n",
      "Error Processing Record 86 of 630 | illoqqortoormiut\n",
      "'coord'\n",
      "Processing Record 100 of 630 | biltine\n",
      "Error Processing Record 101 of 630 | ondorhaan\n",
      "'coord'\n",
      "Error Processing Record 104 of 630 | tsihombe\n",
      "'coord'\n",
      "Error Processing Record 111 of 630 | mys shmidta\n",
      "'coord'\n",
      "Error Processing Record 114 of 630 | belushya guba\n",
      "'coord'\n",
      "Error Processing Record 116 of 630 | sorvag\n",
      "'coord'\n",
      "Error Processing Record 127 of 630 | gurgan\n",
      "'coord'\n",
      "Error Processing Record 139 of 630 | amderma\n",
      "'coord'\n",
      "Error Processing Record 151 of 630 | tarudant\n",
      "'coord'\n",
      "Error Processing Record 179 of 630 | laiagam\n",
      "'coord'\n",
      "Error Processing Record 182 of 630 | chagda\n",
      "'coord'\n",
      "Error Processing Record 190 of 630 | karaul\n",
      "'coord'\n",
      "Processing Record 200 of 630 | fukue\n",
      "Error Processing Record 261 of 630 | nizhneyansk\n",
      "'coord'\n",
      "Error Processing Record 274 of 630 | toliary\n",
      "'coord'\n",
      "Error Processing Record 275 of 630 | doctor pedro p. pena\n",
      "'coord'\n",
      "Error Processing Record 284 of 630 | paradwip\n",
      "'coord'\n",
      "Error Processing Record 288 of 630 | dien bien\n",
      "'coord'\n",
      "Processing Record 300 of 630 | mul\n",
      "Error Processing Record 311 of 630 | hunza\n",
      "'coord'\n",
      "Error Processing Record 313 of 630 | umzimvubu\n",
      "'coord'\n",
      "Error Processing Record 319 of 630 | vaitupu\n",
      "'coord'\n",
      "Error Processing Record 345 of 630 | ardistan\n",
      "'coord'\n",
      "Error Processing Record 356 of 630 | babanusah\n",
      "'coord'\n",
      "Error Processing Record 359 of 630 | kamenskoye\n",
      "'coord'\n",
      "Error Processing Record 380 of 630 | samusu\n",
      "'coord'\n",
      "Error Processing Record 381 of 630 | yanchukan\n",
      "'coord'\n",
      "Error Processing Record 390 of 630 | ust-kamchatsk\n",
      "'coord'\n",
      "Error Processing Record 392 of 630 | grand river south east\n",
      "'coord'\n",
      "Error Processing Record 396 of 630 | tuggurt\n",
      "'coord'\n",
      "Error Processing Record 399 of 630 | tasbuget\n",
      "'coord'\n",
      "Processing Record 400 of 630 | lagoa\n",
      "Error Processing Record 431 of 630 | kuche\n",
      "'coord'\n",
      "Error Processing Record 447 of 630 | sentyabrskiy\n",
      "'coord'\n",
      "Error Processing Record 450 of 630 | wulanhaote\n",
      "'coord'\n",
      "Error Processing Record 470 of 630 | jatoi\n",
      "'coord'\n",
      "Error Processing Record 482 of 630 | falealupo\n",
      "'coord'\n",
      "Processing Record 500 of 630 | oktyabrskoye\n",
      "Error Processing Record 504 of 630 | lolua\n",
      "'coord'\n",
      "Error Processing Record 555 of 630 | dolbeau\n",
      "'coord'\n",
      "Error Processing Record 578 of 630 | zachagansk\n",
      "'coord'\n",
      "Error Processing Record 583 of 630 | sinjah\n",
      "'coord'\n",
      "Processing Record 600 of 630 | phan thiet\n",
      "Error Processing Record 602 of 630 | azimur\n",
      "'coord'\n"
     ]
    }
   ],
   "source": [
    "#create counters\n",
    "count_record = 0\n",
    "set_count = len(cities)\n",
    "\n",
    "\n",
    "#loop through cities\n",
    "for i, city in enumerate(cities):\n",
    "    count_record += 1\n",
    "    \n",
    "    #logging in sets of 100\n",
    "    if (count_record % 100 == 0 and count_record >= 100):\n",
    "        print(\"Processing Record %s of %s | %s\" % (count_record, set_count, city))\n",
    "    \n",
    "    \n",
    "    #Endpoint url with each city\n",
    "    city_url = query_url + \"&q=\" + city\n",
    "      \n",
    "    \n",
    "    #run api for each city\n",
    "    try: \n",
    "        city_weather = requests.get(city_url).json()\n",
    "        \n",
    "        #max temp, humidity, cloudiness\n",
    "        city_lat = city_weather[\"coord\"][\"lat\"]\n",
    "        city_long = city_weather[\"coord\"][\"lon\"] \n",
    "        city_max_temp = city_weather[\"main\"][\"temp_max\"]\n",
    "        city_humidity = city_weather[\"main\"][\"humidity\"]\n",
    "        city_clouds = city_weather[\"clouds\"][\"all\"]\n",
    "        city_wind = city_weather[\"wind\"][\"speed\"]\n",
    "        city_country = city_weather[\"sys\"][\"country\"]\n",
    "        city_date = city_weather[\"dt\"]\n",
    "        \n",
    "        #append into list\n",
    "        city_data.append({\"City\": city,\n",
    "                         \"Lat\": city_lat,\n",
    "                         \"Lng\": city_long,\n",
    "                         \"Max Temp\": city_max_temp,\n",
    "                         \"Humidity\": city_humidity,\n",
    "                         \"Cloudiness\": city_clouds,\n",
    "                         \"Wind Speed\": city_wind,\n",
    "                         \"Country\": city_country,\n",
    "                         \"Date\": city_date})\n",
    "        \n",
    "    except Exception as e:\n",
    "        \n",
    "        print(\"Error Processing Record %s of %s | %s\" % (count_record, set_count, city))\n",
    "        print(str(e))\n",
    "   \n",
    "    \n"
   ]
  },
  {
   "cell_type": "code",
   "execution_count": 10,
   "metadata": {},
   "outputs": [
    {
     "data": {
      "text/plain": [
       "{'coord': {'lon': -86.16, 'lat': 39.77},\n",
       " 'weather': [{'id': 802,\n",
       "   'main': 'Clouds',\n",
       "   'description': 'scattered clouds',\n",
       "   'icon': '03d'}],\n",
       " 'base': 'stations',\n",
       " 'main': {'temp': 75.54,\n",
       "  'feels_like': 68.49,\n",
       "  'temp_min': 73.99,\n",
       "  'temp_max': 77,\n",
       "  'pressure': 1015,\n",
       "  'humidity': 41},\n",
       " 'visibility': 16093,\n",
       " 'wind': {'speed': 12.75, 'deg': 280},\n",
       " 'clouds': {'all': 40},\n",
       " 'dt': 1590793511,\n",
       " 'sys': {'type': 1,\n",
       "  'id': 4533,\n",
       "  'country': 'US',\n",
       "  'sunrise': 1590747593,\n",
       "  'sunset': 1590800683},\n",
       " 'timezone': -14400,\n",
       " 'id': 4260977,\n",
       " 'name': 'Marion',\n",
       " 'cod': 200}"
      ]
     },
     "execution_count": 10,
     "metadata": {},
     "output_type": "execute_result"
    }
   ],
   "source": [
    "city_weather"
   ]
  },
  {
   "cell_type": "code",
   "execution_count": 15,
   "metadata": {},
   "outputs": [
    {
     "name": "stdout",
     "output_type": "stream",
     "text": [
      "Data Retrieval Complete\n",
      "-----------------------\n"
     ]
    }
   ],
   "source": [
    "#print sign complete\n",
    "print(\"Data Retrieval Complete\")\n",
    "print(\"-----------------------\")"
   ]
  },
  {
   "cell_type": "code",
   "execution_count": 19,
   "metadata": {},
   "outputs": [
    {
     "data": {
      "text/plain": [
       "City          581\n",
       "Lat           581\n",
       "Lng           581\n",
       "Max Temp      581\n",
       "Humidity      581\n",
       "Cloudiness    581\n",
       "Wind Speed    581\n",
       "Country       581\n",
       "Date          581\n",
       "dtype: int64"
      ]
     },
     "execution_count": 19,
     "metadata": {},
     "output_type": "execute_result"
    }
   ],
   "source": [
    "#creating dataframe for selected columns\n",
    "city_df = pd.DataFrame(city_data)\n",
    "\n",
    "city_df.count()"
   ]
  },
  {
   "cell_type": "markdown",
   "metadata": {},
   "source": [
    "### Convert Raw Data to DataFrame\n",
    "* Export the city data into a .csv.\n",
    "* Display the DataFrame"
   ]
  },
  {
   "cell_type": "code",
   "execution_count": 20,
   "metadata": {},
   "outputs": [
    {
     "data": {
      "text/html": [
       "<div>\n",
       "<style scoped>\n",
       "    .dataframe tbody tr th:only-of-type {\n",
       "        vertical-align: middle;\n",
       "    }\n",
       "\n",
       "    .dataframe tbody tr th {\n",
       "        vertical-align: top;\n",
       "    }\n",
       "\n",
       "    .dataframe thead th {\n",
       "        text-align: right;\n",
       "    }\n",
       "</style>\n",
       "<table border=\"1\" class=\"dataframe\">\n",
       "  <thead>\n",
       "    <tr style=\"text-align: right;\">\n",
       "      <th></th>\n",
       "      <th>City</th>\n",
       "      <th>Lat</th>\n",
       "      <th>Lng</th>\n",
       "      <th>Max Temp</th>\n",
       "      <th>Humidity</th>\n",
       "      <th>Cloudiness</th>\n",
       "      <th>Wind Speed</th>\n",
       "      <th>Country</th>\n",
       "      <th>Date</th>\n",
       "    </tr>\n",
       "  </thead>\n",
       "  <tbody>\n",
       "    <tr>\n",
       "      <th>0</th>\n",
       "      <td>klaksvik</td>\n",
       "      <td>62.23</td>\n",
       "      <td>-6.59</td>\n",
       "      <td>59.00</td>\n",
       "      <td>72</td>\n",
       "      <td>99</td>\n",
       "      <td>17.22</td>\n",
       "      <td>FO</td>\n",
       "      <td>1590793435</td>\n",
       "    </tr>\n",
       "    <tr>\n",
       "      <th>1</th>\n",
       "      <td>mataura</td>\n",
       "      <td>-46.19</td>\n",
       "      <td>168.86</td>\n",
       "      <td>48.36</td>\n",
       "      <td>75</td>\n",
       "      <td>2</td>\n",
       "      <td>2.21</td>\n",
       "      <td>NZ</td>\n",
       "      <td>1590793435</td>\n",
       "    </tr>\n",
       "    <tr>\n",
       "      <th>2</th>\n",
       "      <td>lorengau</td>\n",
       "      <td>-2.02</td>\n",
       "      <td>147.27</td>\n",
       "      <td>82.47</td>\n",
       "      <td>76</td>\n",
       "      <td>92</td>\n",
       "      <td>1.12</td>\n",
       "      <td>PG</td>\n",
       "      <td>1590793436</td>\n",
       "    </tr>\n",
       "    <tr>\n",
       "      <th>3</th>\n",
       "      <td>te anau</td>\n",
       "      <td>-45.42</td>\n",
       "      <td>167.72</td>\n",
       "      <td>45.90</td>\n",
       "      <td>76</td>\n",
       "      <td>27</td>\n",
       "      <td>1.12</td>\n",
       "      <td>NZ</td>\n",
       "      <td>1590793436</td>\n",
       "    </tr>\n",
       "    <tr>\n",
       "      <th>4</th>\n",
       "      <td>sisimiut</td>\n",
       "      <td>66.94</td>\n",
       "      <td>-53.67</td>\n",
       "      <td>34.95</td>\n",
       "      <td>85</td>\n",
       "      <td>10</td>\n",
       "      <td>11.59</td>\n",
       "      <td>GL</td>\n",
       "      <td>1590793436</td>\n",
       "    </tr>\n",
       "    <tr>\n",
       "      <th>...</th>\n",
       "      <td>...</td>\n",
       "      <td>...</td>\n",
       "      <td>...</td>\n",
       "      <td>...</td>\n",
       "      <td>...</td>\n",
       "      <td>...</td>\n",
       "      <td>...</td>\n",
       "      <td>...</td>\n",
       "      <td>...</td>\n",
       "    </tr>\n",
       "    <tr>\n",
       "      <th>576</th>\n",
       "      <td>vila</td>\n",
       "      <td>42.03</td>\n",
       "      <td>-8.16</td>\n",
       "      <td>69.01</td>\n",
       "      <td>82</td>\n",
       "      <td>85</td>\n",
       "      <td>1.12</td>\n",
       "      <td>PT</td>\n",
       "      <td>1590793558</td>\n",
       "    </tr>\n",
       "    <tr>\n",
       "      <th>577</th>\n",
       "      <td>baruun-urt</td>\n",
       "      <td>46.68</td>\n",
       "      <td>113.28</td>\n",
       "      <td>49.50</td>\n",
       "      <td>72</td>\n",
       "      <td>87</td>\n",
       "      <td>9.57</td>\n",
       "      <td>MN</td>\n",
       "      <td>1590793558</td>\n",
       "    </tr>\n",
       "    <tr>\n",
       "      <th>578</th>\n",
       "      <td>chalons-en-champagne</td>\n",
       "      <td>48.95</td>\n",
       "      <td>4.37</td>\n",
       "      <td>57.20</td>\n",
       "      <td>58</td>\n",
       "      <td>0</td>\n",
       "      <td>8.05</td>\n",
       "      <td>FR</td>\n",
       "      <td>1590793558</td>\n",
       "    </tr>\n",
       "    <tr>\n",
       "      <th>579</th>\n",
       "      <td>grand-lahou</td>\n",
       "      <td>5.14</td>\n",
       "      <td>-5.02</td>\n",
       "      <td>79.48</td>\n",
       "      <td>88</td>\n",
       "      <td>50</td>\n",
       "      <td>6.62</td>\n",
       "      <td>CI</td>\n",
       "      <td>1590793559</td>\n",
       "    </tr>\n",
       "    <tr>\n",
       "      <th>580</th>\n",
       "      <td>marion</td>\n",
       "      <td>39.77</td>\n",
       "      <td>-86.16</td>\n",
       "      <td>77.00</td>\n",
       "      <td>41</td>\n",
       "      <td>40</td>\n",
       "      <td>12.75</td>\n",
       "      <td>US</td>\n",
       "      <td>1590793511</td>\n",
       "    </tr>\n",
       "  </tbody>\n",
       "</table>\n",
       "<p>581 rows × 9 columns</p>\n",
       "</div>"
      ],
      "text/plain": [
       "                     City    Lat     Lng  Max Temp  Humidity  Cloudiness  \\\n",
       "0                klaksvik  62.23   -6.59     59.00        72          99   \n",
       "1                 mataura -46.19  168.86     48.36        75           2   \n",
       "2                lorengau  -2.02  147.27     82.47        76          92   \n",
       "3                 te anau -45.42  167.72     45.90        76          27   \n",
       "4                sisimiut  66.94  -53.67     34.95        85          10   \n",
       "..                    ...    ...     ...       ...       ...         ...   \n",
       "576                  vila  42.03   -8.16     69.01        82          85   \n",
       "577            baruun-urt  46.68  113.28     49.50        72          87   \n",
       "578  chalons-en-champagne  48.95    4.37     57.20        58           0   \n",
       "579           grand-lahou   5.14   -5.02     79.48        88          50   \n",
       "580                marion  39.77  -86.16     77.00        41          40   \n",
       "\n",
       "     Wind Speed Country        Date  \n",
       "0         17.22      FO  1590793435  \n",
       "1          2.21      NZ  1590793435  \n",
       "2          1.12      PG  1590793436  \n",
       "3          1.12      NZ  1590793436  \n",
       "4         11.59      GL  1590793436  \n",
       "..          ...     ...         ...  \n",
       "576        1.12      PT  1590793558  \n",
       "577        9.57      MN  1590793558  \n",
       "578        8.05      FR  1590793558  \n",
       "579        6.62      CI  1590793559  \n",
       "580       12.75      US  1590793511  \n",
       "\n",
       "[581 rows x 9 columns]"
      ]
     },
     "execution_count": 20,
     "metadata": {},
     "output_type": "execute_result"
    }
   ],
   "source": [
    "#creating dataframe for selected columns\n",
    "city_df = pd.DataFrame(city_data)\n",
    "city_df"
   ]
  },
  {
   "cell_type": "markdown",
   "metadata": {},
   "source": [
    "## Inspect the data and remove the cities where the humidity > 100%.\n",
    "----\n",
    "Skip this step if there are no cities that have humidity > 100%. "
   ]
  },
  {
   "cell_type": "code",
   "execution_count": 21,
   "metadata": {},
   "outputs": [
    {
     "data": {
      "text/html": [
       "<div>\n",
       "<style scoped>\n",
       "    .dataframe tbody tr th:only-of-type {\n",
       "        vertical-align: middle;\n",
       "    }\n",
       "\n",
       "    .dataframe tbody tr th {\n",
       "        vertical-align: top;\n",
       "    }\n",
       "\n",
       "    .dataframe thead th {\n",
       "        text-align: right;\n",
       "    }\n",
       "</style>\n",
       "<table border=\"1\" class=\"dataframe\">\n",
       "  <thead>\n",
       "    <tr style=\"text-align: right;\">\n",
       "      <th></th>\n",
       "      <th>Lat</th>\n",
       "      <th>Lng</th>\n",
       "      <th>Max Temp</th>\n",
       "      <th>Humidity</th>\n",
       "      <th>Cloudiness</th>\n",
       "      <th>Wind Speed</th>\n",
       "      <th>Date</th>\n",
       "    </tr>\n",
       "  </thead>\n",
       "  <tbody>\n",
       "    <tr>\n",
       "      <th>count</th>\n",
       "      <td>581.000000</td>\n",
       "      <td>581.000000</td>\n",
       "      <td>581.000000</td>\n",
       "      <td>581.00000</td>\n",
       "      <td>581.000000</td>\n",
       "      <td>581.000000</td>\n",
       "      <td>5.810000e+02</td>\n",
       "    </tr>\n",
       "    <tr>\n",
       "      <th>mean</th>\n",
       "      <td>19.696472</td>\n",
       "      <td>20.701756</td>\n",
       "      <td>65.668589</td>\n",
       "      <td>70.51463</td>\n",
       "      <td>50.555938</td>\n",
       "      <td>7.900568</td>\n",
       "      <td>1.590793e+09</td>\n",
       "    </tr>\n",
       "    <tr>\n",
       "      <th>std</th>\n",
       "      <td>32.879656</td>\n",
       "      <td>90.515910</td>\n",
       "      <td>15.337918</td>\n",
       "      <td>20.97014</td>\n",
       "      <td>37.416008</td>\n",
       "      <td>5.554679</td>\n",
       "      <td>7.506344e+01</td>\n",
       "    </tr>\n",
       "    <tr>\n",
       "      <th>min</th>\n",
       "      <td>-54.800000</td>\n",
       "      <td>-175.200000</td>\n",
       "      <td>26.150000</td>\n",
       "      <td>1.00000</td>\n",
       "      <td>0.000000</td>\n",
       "      <td>0.040000</td>\n",
       "      <td>1.590793e+09</td>\n",
       "    </tr>\n",
       "    <tr>\n",
       "      <th>25%</th>\n",
       "      <td>-6.980000</td>\n",
       "      <td>-58.740000</td>\n",
       "      <td>53.600000</td>\n",
       "      <td>60.00000</td>\n",
       "      <td>10.000000</td>\n",
       "      <td>3.800000</td>\n",
       "      <td>1.590793e+09</td>\n",
       "    </tr>\n",
       "    <tr>\n",
       "      <th>50%</th>\n",
       "      <td>22.080000</td>\n",
       "      <td>26.560000</td>\n",
       "      <td>67.440000</td>\n",
       "      <td>76.00000</td>\n",
       "      <td>53.000000</td>\n",
       "      <td>6.930000</td>\n",
       "      <td>1.590793e+09</td>\n",
       "    </tr>\n",
       "    <tr>\n",
       "      <th>75%</th>\n",
       "      <td>47.500000</td>\n",
       "      <td>102.240000</td>\n",
       "      <td>77.920000</td>\n",
       "      <td>87.00000</td>\n",
       "      <td>90.000000</td>\n",
       "      <td>10.670000</td>\n",
       "      <td>1.590794e+09</td>\n",
       "    </tr>\n",
       "    <tr>\n",
       "      <th>max</th>\n",
       "      <td>78.220000</td>\n",
       "      <td>179.320000</td>\n",
       "      <td>104.000000</td>\n",
       "      <td>100.00000</td>\n",
       "      <td>100.000000</td>\n",
       "      <td>34.450000</td>\n",
       "      <td>1.590794e+09</td>\n",
       "    </tr>\n",
       "  </tbody>\n",
       "</table>\n",
       "</div>"
      ],
      "text/plain": [
       "              Lat         Lng    Max Temp   Humidity  Cloudiness  Wind Speed  \\\n",
       "count  581.000000  581.000000  581.000000  581.00000  581.000000  581.000000   \n",
       "mean    19.696472   20.701756   65.668589   70.51463   50.555938    7.900568   \n",
       "std     32.879656   90.515910   15.337918   20.97014   37.416008    5.554679   \n",
       "min    -54.800000 -175.200000   26.150000    1.00000    0.000000    0.040000   \n",
       "25%     -6.980000  -58.740000   53.600000   60.00000   10.000000    3.800000   \n",
       "50%     22.080000   26.560000   67.440000   76.00000   53.000000    6.930000   \n",
       "75%     47.500000  102.240000   77.920000   87.00000   90.000000   10.670000   \n",
       "max     78.220000  179.320000  104.000000  100.00000  100.000000   34.450000   \n",
       "\n",
       "               Date  \n",
       "count  5.810000e+02  \n",
       "mean   1.590793e+09  \n",
       "std    7.506344e+01  \n",
       "min    1.590793e+09  \n",
       "25%    1.590793e+09  \n",
       "50%    1.590793e+09  \n",
       "75%    1.590794e+09  \n",
       "max    1.590794e+09  "
      ]
     },
     "execution_count": 21,
     "metadata": {},
     "output_type": "execute_result"
    }
   ],
   "source": [
    "#get summary stats use .describe()\n",
    "city_df.describe()"
   ]
  },
  {
   "cell_type": "code",
   "execution_count": 22,
   "metadata": {},
   "outputs": [
    {
     "data": {
      "text/html": [
       "<div>\n",
       "<style scoped>\n",
       "    .dataframe tbody tr th:only-of-type {\n",
       "        vertical-align: middle;\n",
       "    }\n",
       "\n",
       "    .dataframe tbody tr th {\n",
       "        vertical-align: top;\n",
       "    }\n",
       "\n",
       "    .dataframe thead th {\n",
       "        text-align: right;\n",
       "    }\n",
       "</style>\n",
       "<table border=\"1\" class=\"dataframe\">\n",
       "  <thead>\n",
       "    <tr style=\"text-align: right;\">\n",
       "      <th></th>\n",
       "      <th>City</th>\n",
       "      <th>Lat</th>\n",
       "      <th>Lng</th>\n",
       "      <th>Max Temp</th>\n",
       "      <th>Humidity</th>\n",
       "      <th>Cloudiness</th>\n",
       "      <th>Wind Speed</th>\n",
       "      <th>Country</th>\n",
       "      <th>Date</th>\n",
       "    </tr>\n",
       "  </thead>\n",
       "  <tbody>\n",
       "    <tr>\n",
       "      <th>0</th>\n",
       "      <td>klaksvik</td>\n",
       "      <td>62.23</td>\n",
       "      <td>-6.59</td>\n",
       "      <td>59.00</td>\n",
       "      <td>72</td>\n",
       "      <td>99</td>\n",
       "      <td>17.22</td>\n",
       "      <td>FO</td>\n",
       "      <td>1590793435</td>\n",
       "    </tr>\n",
       "    <tr>\n",
       "      <th>1</th>\n",
       "      <td>mataura</td>\n",
       "      <td>-46.19</td>\n",
       "      <td>168.86</td>\n",
       "      <td>48.36</td>\n",
       "      <td>75</td>\n",
       "      <td>2</td>\n",
       "      <td>2.21</td>\n",
       "      <td>NZ</td>\n",
       "      <td>1590793435</td>\n",
       "    </tr>\n",
       "    <tr>\n",
       "      <th>2</th>\n",
       "      <td>lorengau</td>\n",
       "      <td>-2.02</td>\n",
       "      <td>147.27</td>\n",
       "      <td>82.47</td>\n",
       "      <td>76</td>\n",
       "      <td>92</td>\n",
       "      <td>1.12</td>\n",
       "      <td>PG</td>\n",
       "      <td>1590793436</td>\n",
       "    </tr>\n",
       "    <tr>\n",
       "      <th>3</th>\n",
       "      <td>te anau</td>\n",
       "      <td>-45.42</td>\n",
       "      <td>167.72</td>\n",
       "      <td>45.90</td>\n",
       "      <td>76</td>\n",
       "      <td>27</td>\n",
       "      <td>1.12</td>\n",
       "      <td>NZ</td>\n",
       "      <td>1590793436</td>\n",
       "    </tr>\n",
       "    <tr>\n",
       "      <th>4</th>\n",
       "      <td>sisimiut</td>\n",
       "      <td>66.94</td>\n",
       "      <td>-53.67</td>\n",
       "      <td>34.95</td>\n",
       "      <td>85</td>\n",
       "      <td>10</td>\n",
       "      <td>11.59</td>\n",
       "      <td>GL</td>\n",
       "      <td>1590793436</td>\n",
       "    </tr>\n",
       "  </tbody>\n",
       "</table>\n",
       "</div>"
      ],
      "text/plain": [
       "       City    Lat     Lng  Max Temp  Humidity  Cloudiness  Wind Speed  \\\n",
       "0  klaksvik  62.23   -6.59     59.00        72          99       17.22   \n",
       "1   mataura -46.19  168.86     48.36        75           2        2.21   \n",
       "2  lorengau  -2.02  147.27     82.47        76          92        1.12   \n",
       "3   te anau -45.42  167.72     45.90        76          27        1.12   \n",
       "4  sisimiut  66.94  -53.67     34.95        85          10       11.59   \n",
       "\n",
       "  Country        Date  \n",
       "0      FO  1590793435  \n",
       "1      NZ  1590793435  \n",
       "2      PG  1590793436  \n",
       "3      NZ  1590793436  \n",
       "4      GL  1590793436  "
      ]
     },
     "execution_count": 22,
     "metadata": {},
     "output_type": "execute_result"
    }
   ],
   "source": [
    "# Make a new DataFrame equal to the city data to drop all humidity outliers by index.\n",
    "dirty_city_df = city_df[(city_df[\"Humidity\"] > 100)].index\n",
    "dirty_city_df\n",
    "\n",
    "# Passing \"inplace=False\" will make a copy of the city_data DataFrame, which we call \"clean_city_data\".\n",
    "clean_city_df = city_df.drop(dirty_city_df, inplace=False)\n",
    "clean_city_df.head()"
   ]
  },
  {
   "cell_type": "code",
   "execution_count": 23,
   "metadata": {},
   "outputs": [],
   "source": [
    "# Extract relevant fields from the data frame\n",
    "# convert to csv\n",
    "clean_city_df.to_csv('clean_city_df_output.csv')"
   ]
  },
  {
   "cell_type": "markdown",
   "metadata": {},
   "source": [
    "## Plotting the Data\n",
    "* Use proper labeling of the plots using plot titles (including date of analysis) and axes labels.\n",
    "* Save the plotted figures as .pngs."
   ]
  },
  {
   "cell_type": "markdown",
   "metadata": {},
   "source": [
    "## Latitude vs. Temperature Plot"
   ]
  },
  {
   "cell_type": "code",
   "execution_count": 24,
   "metadata": {
    "scrolled": true
   },
   "outputs": [
    {
     "data": {
      "image/png": "[encoded data removed]",
      "text/plain": [
       "<Figure size 432x288 with 1 Axes>"
      ]
     },
     "metadata": {
      "needs_background": "light"
     },
     "output_type": "display_data"
    }
   ],
   "source": [
    "#graph plot of lat vs. temp\n",
    "plt.scatter(clean_city_df[\"Lat\"],clean_city_df[\"Max Temp\"],edgecolors=\"black\",facecolors=\"blue\")\n",
    "plt.title(\"City Latitude vs. Max Temperature (04/01/20)\")\n",
    "plt.xlabel(\"Latitude\")\n",
    "plt.ylabel(\"Max Temperature (F)\")\n",
    "plt.grid (b=True,which=\"major\",axis=\"both\",linestyle=\"-\",color=\"lightgrey\")\n",
    "\n",
    "#save image\n",
    "plt.savefig(\"LatvsMaxTemp.png\")\n",
    "plt.show()"
   ]
  },
  {
   "cell_type": "markdown",
   "metadata": {},
   "source": [
    "## Latitude vs. Humidity Plot"
   ]
  },
  {
   "cell_type": "code",
   "execution_count": 25,
   "metadata": {},
   "outputs": [
    {
     "data": {
      "image/png": "[encoded data removed]",
      "text/plain": [
       "<Figure size 432x288 with 1 Axes>"
      ]
     },
     "metadata": {
      "needs_background": "light"
     },
     "output_type": "display_data"
    }
   ],
   "source": [
    "#graph plot of lat vs. Humidity\n",
    "plt.scatter(clean_city_df[\"Lat\"],clean_city_df[\"Humidity\"],edgecolors=\"black\",facecolors=\"blue\")\n",
    "plt.title(\"City Latitude vs. Humidity (04/01/20)\")\n",
    "plt.xlabel(\"Latitude\")\n",
    "plt.ylabel(\"Humidity (%)\")\n",
    "plt.grid (b=True,which=\"major\",axis=\"both\",linestyle=\"-\",color=\"lightgrey\")\n",
    "\n",
    "#save image, needs to be in this order or the png will be blank\n",
    "plt.savefig(\"LatvsHumidity.png\")\n",
    "plt.show()"
   ]
  },
  {
   "cell_type": "markdown",
   "metadata": {},
   "source": [
    "## Latitude vs. Cloudiness Plot"
   ]
  },
  {
   "cell_type": "code",
   "execution_count": 26,
   "metadata": {},
   "outputs": [
    {
     "data": {
      "image/png": "[encoded data removed]",
      "text/plain": [
       "<Figure size 432x288 with 1 Axes>"
      ]
     },
     "metadata": {
      "needs_background": "light"
     },
     "output_type": "display_data"
    }
   ],
   "source": [
    "#graph plot of lat vs. Cloudiness\n",
    "plt.scatter(clean_city_df[\"Lat\"],clean_city_df[\"Cloudiness\"],edgecolors=\"black\",facecolors=\"blue\")\n",
    "plt.title(\"City Latitude vs. Cloudiness (04/01/20)\")\n",
    "plt.xlabel(\"Latitude\")\n",
    "plt.ylabel(\"Cloudiness (%)\")\n",
    "plt.grid (b=True,which=\"major\",axis=\"both\",linestyle=\"-\",color=\"lightgrey\")\n",
    "\n",
    "#save image\n",
    "plt.savefig(\"LatvsMaxCloudiness.png\")\n",
    "plt.show()"
   ]
  },
  {
   "cell_type": "markdown",
   "metadata": {},
   "source": [
    "## Latitude vs. Wind Speed Plot"
   ]
  },
  {
   "cell_type": "code",
   "execution_count": 27,
   "metadata": {},
   "outputs": [
    {
     "data": {
      "image/png": "[encoded data removed]",
      "text/plain": [
       "<Figure size 432x288 with 1 Axes>"
      ]
     },
     "metadata": {
      "needs_background": "light"
     },
     "output_type": "display_data"
    }
   ],
   "source": [
    "#graph plot of lat vs. Wind Speed Plot\n",
    "plt.scatter(clean_city_df[\"Lat\"],clean_city_df[\"Wind Speed\"],edgecolors=\"black\",facecolors=\"blue\")\n",
    "plt.title(\"City Latitude vs. Wind Speed (04/01/20)\")\n",
    "plt.xlabel(\"Latitude\")\n",
    "plt.ylabel(\"Wind Speed (mph)\")\n",
    "plt.grid (b=True,which=\"major\",axis=\"both\",linestyle=\"-\",color=\"lightgrey\")\n",
    "\n",
    "#save image\n",
    "plt.savefig(\"LatvsWindSpeed.png\")\n",
    "plt.show()"
   ]
  },
  {
   "cell_type": "markdown",
   "metadata": {},
   "source": [
    "## Linear Regression"
   ]
  },
  {
   "cell_type": "code",
   "execution_count": 28,
   "metadata": {},
   "outputs": [],
   "source": [
    "# OPTIONAL: Create a function to create Linear Regression plots\n",
    "# need to define variables for formula y = mx + b\n",
    "\n",
    "def plot_linear_regress(x_values, y_values, title, text_coordinates):\n",
    "\n",
    "\n",
    "    (slope, intercept, rvalue, pvalue, stderr) = linregress(x_values, y_values)\n",
    "    regress_values = x_values * slope + intercept\n",
    "    line_eq = \"y = \" + str(round(slope,2)) + \"x + \" + str(round(intercept,2))\n",
    "\n",
    "    plt.scatter(x_values,y_values)\n",
    "    plt.plot(x_values,regress_values,\"r-\")\n",
    "\n",
    "    #formatting\n",
    "    plt.text(15, 45, line_eq, fontsize=15,color=\"red\")\n",
    "    plt.xlabel('Latitude')\n",
    "    plt.ylabel(title)\n",
    "    print(f\"The r-squared is: {rvalue**2}\")\n",
    "    \n",
    "    plt.savefig(\"linregress.png\")\n",
    "    plt.show()"
   ]
  },
  {
   "cell_type": "code",
   "execution_count": 29,
   "metadata": {},
   "outputs": [
    {
     "data": {
      "text/html": [
       "<div>\n",
       "<style scoped>\n",
       "    .dataframe tbody tr th:only-of-type {\n",
       "        vertical-align: middle;\n",
       "    }\n",
       "\n",
       "    .dataframe tbody tr th {\n",
       "        vertical-align: top;\n",
       "    }\n",
       "\n",
       "    .dataframe thead th {\n",
       "        text-align: right;\n",
       "    }\n",
       "</style>\n",
       "<table border=\"1\" class=\"dataframe\">\n",
       "  <thead>\n",
       "    <tr style=\"text-align: right;\">\n",
       "      <th></th>\n",
       "      <th>City</th>\n",
       "      <th>Lat</th>\n",
       "      <th>Lng</th>\n",
       "      <th>Max Temp</th>\n",
       "      <th>Humidity</th>\n",
       "      <th>Cloudiness</th>\n",
       "      <th>Wind Speed</th>\n",
       "      <th>Country</th>\n",
       "      <th>Date</th>\n",
       "    </tr>\n",
       "  </thead>\n",
       "  <tbody>\n",
       "    <tr>\n",
       "      <th>0</th>\n",
       "      <td>klaksvik</td>\n",
       "      <td>62.23</td>\n",
       "      <td>-6.59</td>\n",
       "      <td>59.00</td>\n",
       "      <td>72</td>\n",
       "      <td>99</td>\n",
       "      <td>17.22</td>\n",
       "      <td>FO</td>\n",
       "      <td>1590793435</td>\n",
       "    </tr>\n",
       "    <tr>\n",
       "      <th>4</th>\n",
       "      <td>sisimiut</td>\n",
       "      <td>66.94</td>\n",
       "      <td>-53.67</td>\n",
       "      <td>34.95</td>\n",
       "      <td>85</td>\n",
       "      <td>10</td>\n",
       "      <td>11.59</td>\n",
       "      <td>GL</td>\n",
       "      <td>1590793436</td>\n",
       "    </tr>\n",
       "    <tr>\n",
       "      <th>6</th>\n",
       "      <td>marystown</td>\n",
       "      <td>47.17</td>\n",
       "      <td>-55.15</td>\n",
       "      <td>52.81</td>\n",
       "      <td>95</td>\n",
       "      <td>97</td>\n",
       "      <td>15.28</td>\n",
       "      <td>CA</td>\n",
       "      <td>1590793437</td>\n",
       "    </tr>\n",
       "    <tr>\n",
       "      <th>8</th>\n",
       "      <td>krasnoufimsk</td>\n",
       "      <td>56.61</td>\n",
       "      <td>57.77</td>\n",
       "      <td>51.22</td>\n",
       "      <td>79</td>\n",
       "      <td>21</td>\n",
       "      <td>1.95</td>\n",
       "      <td>RU</td>\n",
       "      <td>1590793437</td>\n",
       "    </tr>\n",
       "    <tr>\n",
       "      <th>9</th>\n",
       "      <td>kapaa</td>\n",
       "      <td>22.08</td>\n",
       "      <td>-159.32</td>\n",
       "      <td>84.99</td>\n",
       "      <td>69</td>\n",
       "      <td>20</td>\n",
       "      <td>13.87</td>\n",
       "      <td>US</td>\n",
       "      <td>1590793437</td>\n",
       "    </tr>\n",
       "    <tr>\n",
       "      <th>...</th>\n",
       "      <td>...</td>\n",
       "      <td>...</td>\n",
       "      <td>...</td>\n",
       "      <td>...</td>\n",
       "      <td>...</td>\n",
       "      <td>...</td>\n",
       "      <td>...</td>\n",
       "      <td>...</td>\n",
       "      <td>...</td>\n",
       "    </tr>\n",
       "    <tr>\n",
       "      <th>576</th>\n",
       "      <td>vila</td>\n",
       "      <td>42.03</td>\n",
       "      <td>-8.16</td>\n",
       "      <td>69.01</td>\n",
       "      <td>82</td>\n",
       "      <td>85</td>\n",
       "      <td>1.12</td>\n",
       "      <td>PT</td>\n",
       "      <td>1590793558</td>\n",
       "    </tr>\n",
       "    <tr>\n",
       "      <th>577</th>\n",
       "      <td>baruun-urt</td>\n",
       "      <td>46.68</td>\n",
       "      <td>113.28</td>\n",
       "      <td>49.50</td>\n",
       "      <td>72</td>\n",
       "      <td>87</td>\n",
       "      <td>9.57</td>\n",
       "      <td>MN</td>\n",
       "      <td>1590793558</td>\n",
       "    </tr>\n",
       "    <tr>\n",
       "      <th>578</th>\n",
       "      <td>chalons-en-champagne</td>\n",
       "      <td>48.95</td>\n",
       "      <td>4.37</td>\n",
       "      <td>57.20</td>\n",
       "      <td>58</td>\n",
       "      <td>0</td>\n",
       "      <td>8.05</td>\n",
       "      <td>FR</td>\n",
       "      <td>1590793558</td>\n",
       "    </tr>\n",
       "    <tr>\n",
       "      <th>579</th>\n",
       "      <td>grand-lahou</td>\n",
       "      <td>5.14</td>\n",
       "      <td>-5.02</td>\n",
       "      <td>79.48</td>\n",
       "      <td>88</td>\n",
       "      <td>50</td>\n",
       "      <td>6.62</td>\n",
       "      <td>CI</td>\n",
       "      <td>1590793559</td>\n",
       "    </tr>\n",
       "    <tr>\n",
       "      <th>580</th>\n",
       "      <td>marion</td>\n",
       "      <td>39.77</td>\n",
       "      <td>-86.16</td>\n",
       "      <td>77.00</td>\n",
       "      <td>41</td>\n",
       "      <td>40</td>\n",
       "      <td>12.75</td>\n",
       "      <td>US</td>\n",
       "      <td>1590793511</td>\n",
       "    </tr>\n",
       "  </tbody>\n",
       "</table>\n",
       "<p>397 rows × 9 columns</p>\n",
       "</div>"
      ],
      "text/plain": [
       "                     City    Lat     Lng  Max Temp  Humidity  Cloudiness  \\\n",
       "0                klaksvik  62.23   -6.59     59.00        72          99   \n",
       "4                sisimiut  66.94  -53.67     34.95        85          10   \n",
       "6               marystown  47.17  -55.15     52.81        95          97   \n",
       "8            krasnoufimsk  56.61   57.77     51.22        79          21   \n",
       "9                   kapaa  22.08 -159.32     84.99        69          20   \n",
       "..                    ...    ...     ...       ...       ...         ...   \n",
       "576                  vila  42.03   -8.16     69.01        82          85   \n",
       "577            baruun-urt  46.68  113.28     49.50        72          87   \n",
       "578  chalons-en-champagne  48.95    4.37     57.20        58           0   \n",
       "579           grand-lahou   5.14   -5.02     79.48        88          50   \n",
       "580                marion  39.77  -86.16     77.00        41          40   \n",
       "\n",
       "     Wind Speed Country        Date  \n",
       "0         17.22      FO  1590793435  \n",
       "4         11.59      GL  1590793436  \n",
       "6         15.28      CA  1590793437  \n",
       "8          1.95      RU  1590793437  \n",
       "9         13.87      US  1590793437  \n",
       "..          ...     ...         ...  \n",
       "576        1.12      PT  1590793558  \n",
       "577        9.57      MN  1590793558  \n",
       "578        8.05      FR  1590793558  \n",
       "579        6.62      CI  1590793559  \n",
       "580       12.75      US  1590793511  \n",
       "\n",
       "[397 rows x 9 columns]"
      ]
     },
     "execution_count": 29,
     "metadata": {},
     "output_type": "execute_result"
    }
   ],
   "source": [
    "# Create Northern and Southern Hemisphere DataFrames\n",
    "north_hem_df = clean_city_df.loc[(clean_city_df[\"Lat\"] >= 0)]\n",
    "north_hem_df"
   ]
  },
  {
   "cell_type": "code",
   "execution_count": 30,
   "metadata": {},
   "outputs": [
    {
     "data": {
      "text/html": [
       "<div>\n",
       "<style scoped>\n",
       "    .dataframe tbody tr th:only-of-type {\n",
       "        vertical-align: middle;\n",
       "    }\n",
       "\n",
       "    .dataframe tbody tr th {\n",
       "        vertical-align: top;\n",
       "    }\n",
       "\n",
       "    .dataframe thead th {\n",
       "        text-align: right;\n",
       "    }\n",
       "</style>\n",
       "<table border=\"1\" class=\"dataframe\">\n",
       "  <thead>\n",
       "    <tr style=\"text-align: right;\">\n",
       "      <th></th>\n",
       "      <th>City</th>\n",
       "      <th>Lat</th>\n",
       "      <th>Lng</th>\n",
       "      <th>Max Temp</th>\n",
       "      <th>Humidity</th>\n",
       "      <th>Cloudiness</th>\n",
       "      <th>Wind Speed</th>\n",
       "      <th>Country</th>\n",
       "      <th>Date</th>\n",
       "    </tr>\n",
       "  </thead>\n",
       "  <tbody>\n",
       "    <tr>\n",
       "      <th>1</th>\n",
       "      <td>mataura</td>\n",
       "      <td>-46.19</td>\n",
       "      <td>168.86</td>\n",
       "      <td>48.36</td>\n",
       "      <td>75</td>\n",
       "      <td>2</td>\n",
       "      <td>2.21</td>\n",
       "      <td>NZ</td>\n",
       "      <td>1590793435</td>\n",
       "    </tr>\n",
       "    <tr>\n",
       "      <th>2</th>\n",
       "      <td>lorengau</td>\n",
       "      <td>-2.02</td>\n",
       "      <td>147.27</td>\n",
       "      <td>82.47</td>\n",
       "      <td>76</td>\n",
       "      <td>92</td>\n",
       "      <td>1.12</td>\n",
       "      <td>PG</td>\n",
       "      <td>1590793436</td>\n",
       "    </tr>\n",
       "    <tr>\n",
       "      <th>3</th>\n",
       "      <td>te anau</td>\n",
       "      <td>-45.42</td>\n",
       "      <td>167.72</td>\n",
       "      <td>45.90</td>\n",
       "      <td>76</td>\n",
       "      <td>27</td>\n",
       "      <td>1.12</td>\n",
       "      <td>NZ</td>\n",
       "      <td>1590793436</td>\n",
       "    </tr>\n",
       "    <tr>\n",
       "      <th>5</th>\n",
       "      <td>port alfred</td>\n",
       "      <td>-33.59</td>\n",
       "      <td>26.89</td>\n",
       "      <td>57.99</td>\n",
       "      <td>80</td>\n",
       "      <td>34</td>\n",
       "      <td>5.99</td>\n",
       "      <td>ZA</td>\n",
       "      <td>1590793436</td>\n",
       "    </tr>\n",
       "    <tr>\n",
       "      <th>7</th>\n",
       "      <td>rikitea</td>\n",
       "      <td>-23.12</td>\n",
       "      <td>-134.97</td>\n",
       "      <td>75.13</td>\n",
       "      <td>80</td>\n",
       "      <td>6</td>\n",
       "      <td>9.95</td>\n",
       "      <td>PF</td>\n",
       "      <td>1590793437</td>\n",
       "    </tr>\n",
       "    <tr>\n",
       "      <th>...</th>\n",
       "      <td>...</td>\n",
       "      <td>...</td>\n",
       "      <td>...</td>\n",
       "      <td>...</td>\n",
       "      <td>...</td>\n",
       "      <td>...</td>\n",
       "      <td>...</td>\n",
       "      <td>...</td>\n",
       "      <td>...</td>\n",
       "    </tr>\n",
       "    <tr>\n",
       "      <th>558</th>\n",
       "      <td>lae</td>\n",
       "      <td>-6.72</td>\n",
       "      <td>146.98</td>\n",
       "      <td>75.20</td>\n",
       "      <td>78</td>\n",
       "      <td>75</td>\n",
       "      <td>5.82</td>\n",
       "      <td>PG</td>\n",
       "      <td>1590793554</td>\n",
       "    </tr>\n",
       "    <tr>\n",
       "      <th>559</th>\n",
       "      <td>port augusta</td>\n",
       "      <td>-32.50</td>\n",
       "      <td>137.77</td>\n",
       "      <td>55.99</td>\n",
       "      <td>47</td>\n",
       "      <td>0</td>\n",
       "      <td>17.22</td>\n",
       "      <td>AU</td>\n",
       "      <td>1590793555</td>\n",
       "    </tr>\n",
       "    <tr>\n",
       "      <th>564</th>\n",
       "      <td>ngunguru</td>\n",
       "      <td>-35.62</td>\n",
       "      <td>174.50</td>\n",
       "      <td>61.00</td>\n",
       "      <td>94</td>\n",
       "      <td>9</td>\n",
       "      <td>1.01</td>\n",
       "      <td>NZ</td>\n",
       "      <td>1590793556</td>\n",
       "    </tr>\n",
       "    <tr>\n",
       "      <th>566</th>\n",
       "      <td>kruisfontein</td>\n",
       "      <td>-34.00</td>\n",
       "      <td>24.73</td>\n",
       "      <td>52.25</td>\n",
       "      <td>93</td>\n",
       "      <td>74</td>\n",
       "      <td>5.70</td>\n",
       "      <td>ZA</td>\n",
       "      <td>1590793556</td>\n",
       "    </tr>\n",
       "    <tr>\n",
       "      <th>569</th>\n",
       "      <td>karaton</td>\n",
       "      <td>-6.34</td>\n",
       "      <td>106.10</td>\n",
       "      <td>77.00</td>\n",
       "      <td>88</td>\n",
       "      <td>20</td>\n",
       "      <td>3.36</td>\n",
       "      <td>ID</td>\n",
       "      <td>1590793557</td>\n",
       "    </tr>\n",
       "  </tbody>\n",
       "</table>\n",
       "<p>184 rows × 9 columns</p>\n",
       "</div>"
      ],
      "text/plain": [
       "             City    Lat     Lng  Max Temp  Humidity  Cloudiness  Wind Speed  \\\n",
       "1         mataura -46.19  168.86     48.36        75           2        2.21   \n",
       "2        lorengau  -2.02  147.27     82.47        76          92        1.12   \n",
       "3         te anau -45.42  167.72     45.90        76          27        1.12   \n",
       "5     port alfred -33.59   26.89     57.99        80          34        5.99   \n",
       "7         rikitea -23.12 -134.97     75.13        80           6        9.95   \n",
       "..            ...    ...     ...       ...       ...         ...         ...   \n",
       "558           lae  -6.72  146.98     75.20        78          75        5.82   \n",
       "559  port augusta -32.50  137.77     55.99        47           0       17.22   \n",
       "564      ngunguru -35.62  174.50     61.00        94           9        1.01   \n",
       "566  kruisfontein -34.00   24.73     52.25        93          74        5.70   \n",
       "569       karaton  -6.34  106.10     77.00        88          20        3.36   \n",
       "\n",
       "    Country        Date  \n",
       "1        NZ  1590793435  \n",
       "2        PG  1590793436  \n",
       "3        NZ  1590793436  \n",
       "5        ZA  1590793436  \n",
       "7        PF  1590793437  \n",
       "..      ...         ...  \n",
       "558      PG  1590793554  \n",
       "559      AU  1590793555  \n",
       "564      NZ  1590793556  \n",
       "566      ZA  1590793556  \n",
       "569      ID  1590793557  \n",
       "\n",
       "[184 rows x 9 columns]"
      ]
     },
     "execution_count": 30,
     "metadata": {},
     "output_type": "execute_result"
    }
   ],
   "source": [
    "# Create Southern Hemisphere Dataframe\n",
    "south_hem_df = clean_city_df.loc[(clean_city_df[\"Lat\"] < 0)]\n",
    "south_hem_df"
   ]
  },
  {
   "cell_type": "markdown",
   "metadata": {},
   "source": [
    "####  Northern Hemisphere - Max Temp vs. Latitude Linear Regression"
   ]
  },
  {
   "cell_type": "code",
   "execution_count": 34,
   "metadata": {},
   "outputs": [
    {
     "name": "stdout",
     "output_type": "stream",
     "text": [
      "The r-squared is: 0.6563389901611515\n"
     ]
    },
    {
     "data": {
      "image/png": "[encoded data removed]",
      "text/plain": [
       "<Figure size 432x288 with 1 Axes>"
      ]
     },
     "metadata": {
      "needs_background": "light"
     },
     "output_type": "display_data"
    },
    {
     "data": {
      "text/plain": [
       "<Figure size 432x288 with 0 Axes>"
      ]
     },
     "metadata": {},
     "output_type": "display_data"
    }
   ],
   "source": [
    "#Northern Hem plot linear regression for max temp vs lat\n",
    "x_values = north_hem_df[\"Lat\"]\n",
    "y_values = north_hem_df[\"Max Temp\"]\n",
    "plot_linear_regress(x_values, y_values, 'Max Temp',(6,30))\n",
    "\n",
    "plt.savefig(\"NorthernMaxTempvsLatLinReg.png\")\n",
    "plt.show()"
   ]
  },
  {
   "cell_type": "markdown",
   "metadata": {},
   "source": [
    "####  Southern Hemisphere - Max Temp vs. Latitude Linear Regression"
   ]
  },
  {
   "cell_type": "code",
   "execution_count": 37,
   "metadata": {},
   "outputs": [
    {
     "name": "stdout",
     "output_type": "stream",
     "text": [
      "The r-squared is: 0.658441252660112\n"
     ]
    },
    {
     "data": {
      "image/png": "[encoded data removed]",
      "text/plain": [
       "<Figure size 432x288 with 1 Axes>"
      ]
     },
     "metadata": {
      "needs_background": "light"
     },
     "output_type": "display_data"
    },
    {
     "data": {
      "text/plain": [
       "<Figure size 432x288 with 0 Axes>"
      ]
     },
     "metadata": {},
     "output_type": "display_data"
    }
   ],
   "source": [
    "#Southern Hem plot linear regression for max temp vs lat\n",
    "x_values = south_hem_df[\"Lat\"]\n",
    "y_values = south_hem_df[\"Max Temp\"]\n",
    "plot_linear_regress(x_values, y_values, 'Max Temp',(-50,90))\n",
    "\n",
    "plt.savefig(\"SouthernMaxTempvsLatLinReg.png\")\n",
    "plt.show()"
   ]
  },
  {
   "cell_type": "markdown",
   "metadata": {},
   "source": [
    "####  Northern Hemisphere - Humidity (%) vs. Latitude Linear Regression"
   ]
  },
  {
   "cell_type": "code",
   "execution_count": 40,
   "metadata": {},
   "outputs": [
    {
     "name": "stdout",
     "output_type": "stream",
     "text": [
      "The r-squared is: 0.006688332478683869\n"
     ]
    },
    {
     "data": {
      "image/png": "[encoded data removed]",
      "text/plain": [
       "<Figure size 432x288 with 1 Axes>"
      ]
     },
     "metadata": {
      "needs_background": "light"
     },
     "output_type": "display_data"
    },
    {
     "data": {
      "text/plain": [
       "<Figure size 432x288 with 0 Axes>"
      ]
     },
     "metadata": {},
     "output_type": "display_data"
    }
   ],
   "source": [
    "#Northern Hem plot linear regression for humidity vs lat\n",
    "x_values = north_hem_df[\"Lat\"]\n",
    "y_values = north_hem_df[\"Humidity\"]\n",
    "plot_linear_regress(x_values, y_values, 'Humidity',(40,10))\n",
    "\n",
    "plt.savefig(\"NorthernHumidityvsLatLinReg.png\")\n",
    "plt.show()"
   ]
  },
  {
   "cell_type": "markdown",
   "metadata": {},
   "source": [
    "####  Southern Hemisphere - Humidity (%) vs. Latitude Linear Regression"
   ]
  },
  {
   "cell_type": "code",
   "execution_count": 41,
   "metadata": {},
   "outputs": [
    {
     "name": "stdout",
     "output_type": "stream",
     "text": [
      "The r-squared is: 0.03480455114021379\n"
     ]
    },
    {
     "data": {
      "image/png": "[encoded data removed]",
      "text/plain": [
       "<Figure size 432x288 with 1 Axes>"
      ]
     },
     "metadata": {
      "needs_background": "light"
     },
     "output_type": "display_data"
    },
    {
     "data": {
      "text/plain": [
       "<Figure size 432x288 with 0 Axes>"
      ]
     },
     "metadata": {},
     "output_type": "display_data"
    }
   ],
   "source": [
    "#Southern Hem plot linear regression for humidity vs lat\n",
    "x_values = south_hem_df[\"Lat\"]\n",
    "y_values = south_hem_df[\"Humidity\"]\n",
    "plot_linear_regress(x_values, y_values, 'Humidity',(-50,30))\n",
    "\n",
    "plt.savefig(\"SouthernHumidtyvsLatLinReg.png\")\n",
    "plt.show()"
   ]
  },
  {
   "cell_type": "markdown",
   "metadata": {},
   "source": [
    "####  Northern Hemisphere - Cloudiness (%) vs. Latitude Linear Regression"
   ]
  },
  {
   "cell_type": "code",
   "execution_count": 42,
   "metadata": {},
   "outputs": [
    {
     "name": "stdout",
     "output_type": "stream",
     "text": [
      "The r-squared is: 0.00018792887847026771\n"
     ]
    },
    {
     "data": {
      "image/png": "[encoded data removed]",
      "text/plain": [
       "<Figure size 432x288 with 1 Axes>"
      ]
     },
     "metadata": {
      "needs_background": "light"
     },
     "output_type": "display_data"
    },
    {
     "data": {
      "text/plain": [
       "<Figure size 432x288 with 0 Axes>"
      ]
     },
     "metadata": {},
     "output_type": "display_data"
    }
   ],
   "source": [
    "#Northern Hem plot linear regression for Cloudiness vs lat\n",
    "x_values = north_hem_df[\"Lat\"]\n",
    "y_values = north_hem_df[\"Cloudiness\"]\n",
    "plot_linear_regress(x_values, y_values, 'Cloudiness',(40,10))\n",
    "\n",
    "plt.savefig(\"NorthernCloudinessvsLatLinReg.png\")\n",
    "plt.show()"
   ]
  },
  {
   "cell_type": "markdown",
   "metadata": {},
   "source": [
    "####  Southern Hemisphere - Cloudiness (%) vs. Latitude Linear Regression"
   ]
  },
  {
   "cell_type": "code",
   "execution_count": 43,
   "metadata": {},
   "outputs": [
    {
     "name": "stdout",
     "output_type": "stream",
     "text": [
      "The r-squared is: 0.0330567901021707\n"
     ]
    },
    {
     "data": {
      "image/png": "[encoded data removed]",
      "text/plain": [
       "<Figure size 432x288 with 1 Axes>"
      ]
     },
     "metadata": {
      "needs_background": "light"
     },
     "output_type": "display_data"
    },
    {
     "data": {
      "text/plain": [
       "<Figure size 432x288 with 0 Axes>"
      ]
     },
     "metadata": {},
     "output_type": "display_data"
    }
   ],
   "source": [
    "#Southern Hem plot linear regression for Cloudiness vs lat\n",
    "x_values = south_hem_df[\"Lat\"]\n",
    "y_values = south_hem_df[\"Cloudiness\"]\n",
    "plot_linear_regress(x_values, y_values, 'Cloudiness',(-30,30))\n",
    "\n",
    "plt.savefig(\"SouthernCloudinessvsLatLinReg.png\")\n",
    "plt.show()"
   ]
  },
  {
   "cell_type": "markdown",
   "metadata": {},
   "source": [
    "####  Northern Hemisphere - Wind Speed (mph) vs. Latitude Linear Regression"
   ]
  },
  {
   "cell_type": "code",
   "execution_count": 46,
   "metadata": {},
   "outputs": [
    {
     "name": "stdout",
     "output_type": "stream",
     "text": [
      "The r-squared is: 0.009859146720562576\n"
     ]
    },
    {
     "data": {
      "image/png": "[encoded data removed]",
      "text/plain": [
       "<Figure size 432x288 with 1 Axes>"
      ]
     },
     "metadata": {
      "needs_background": "light"
     },
     "output_type": "display_data"
    },
    {
     "data": {
      "text/plain": [
       "<Figure size 432x288 with 0 Axes>"
      ]
     },
     "metadata": {},
     "output_type": "display_data"
    }
   ],
   "source": [
    "#Northern Hem plot linear regression for Wind Speed vs lat\n",
    "x_values = north_hem_df[\"Lat\"]\n",
    "y_values = north_hem_df[\"Wind Speed\"]\n",
    "plot_linear_regress(x_values, y_values, 'Wind Speed',(40,25))\n",
    "\n",
    "plt.savefig(\"NorthernWindSpeedvsLatLinReg.png\")\n",
    "plt.show()"
   ]
  },
  {
   "cell_type": "markdown",
   "metadata": {},
   "source": [
    "####  Southern Hemisphere - Wind Speed (mph) vs. Latitude Linear Regression"
   ]
  },
  {
   "cell_type": "code",
   "execution_count": 48,
   "metadata": {},
   "outputs": [
    {
     "name": "stdout",
     "output_type": "stream",
     "text": [
      "The r-squared is: 0.025426173888927928\n"
     ]
    },
    {
     "data": {
      "image/png": "[encoded data removed]",
      "text/plain": [
       "<Figure size 432x288 with 1 Axes>"
      ]
     },
     "metadata": {
      "needs_background": "light"
     },
     "output_type": "display_data"
    },
    {
     "data": {
      "text/plain": [
       "<Figure size 432x288 with 0 Axes>"
      ]
     },
     "metadata": {},
     "output_type": "display_data"
    }
   ],
   "source": [
    "#Southern Hem plot linear regression for wind speed vs lat\n",
    "x_values = south_hem_df[\"Lat\"]\n",
    "y_values = south_hem_df[\"Wind Speed\"]\n",
    "plot_linear_regress(x_values, y_values, 'Wind Speed',(-50,30))\n",
    "\n",
    "plt.savefig(\"SouthernWindSpeedvsLatLinReg.png\")\n",
    "plt.show()"
   ]
  }
 ],
 "metadata": {
  "anaconda-cloud": {},
  "kernel_info": {
   "name": "python3"
  },
  "kernelspec": {
   "display_name": "Python [conda env:root] *",
   "language": "python",
   "name": "conda-root-py"
  },
  "language_info": {
   "codemirror_mode": {
    "name": "ipython",
    "version": 3
   },
   "file_extension": ".py",
   "mimetype": "text/x-python",
   "name": "python",
   "nbconvert_exporter": "python",
   "pygments_lexer": "ipython3",
   "version": "3.7.4"
  },
  "latex_envs": {
   "LaTeX_envs_menu_present": true,
   "autoclose": false,
   "autocomplete": true,
   "bibliofile": "biblio.bib",
   "cite_by": "apalike",
   "current_citInitial": 1,
   "eqLabelWithNumbers": true,
   "eqNumInitial": 1,
   "hotkeys": {
    "equation": "Ctrl-E",
    "itemize": "Ctrl-I"
   },
   "labels_anchors": false,
   "latex_user_defs": false,
   "report_style_numbering": false,
   "user_envs_cfg": false
  },
  "nteract": {
   "version": "0.12.3"
  }
 },
 "nbformat": 4,
 "nbformat_minor": 4
}
